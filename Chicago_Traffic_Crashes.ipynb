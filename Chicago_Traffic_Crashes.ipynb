{
 "cells": [
  {
   "cell_type": "markdown",
   "metadata": {},
   "source": [
    "# Investigation on Traffic Crashes in Chicago"
   ]
  },
  {
   "cell_type": "markdown",
   "metadata": {},
   "source": [
    "\n",
    "# Table of Contents\n",
    "1. [Abstract](#abstract)\n",
    "2. [Exploratory Data Analysis](#exploratory-data-analysis)\n",
    "3. [Modeling](#modeling)\n",
    "4. [Conclusion](#modeling)"
   ]
  },
  {
   "cell_type": "markdown",
   "metadata": {},
   "source": [
    "<a id='abstract'></a>\n",
    "# I. Abstract\n",
    "\n",
    "Traffic crash is not only an major topic in Geographic AI, but also directly ralated to people's daily life. Nearly 1.3 million people die internationally every year from car accidents and in addition up to 50 million people are injured. Machine learning can be a helpful tool to analyze and reduce the risk of crashes. In this work, an data analysis is demonstrated on Chicago traffic crashes (20016-2018), followed by a prediction of risk and severity of crashes based on random forrest model. This work is a promising application for safe route planning, emergency vehicle allocation, roadway design and where to place additional traffic control devices."
   ]
  },
  {
   "cell_type": "markdown",
   "metadata": {},
   "source": [
    "<a id='exploratory-data-analysis'></a>\n",
    "# II. Exploratory Data Analysis"
   ]
  },
  {
   "cell_type": "markdown",
   "metadata": {},
   "source": [
    "## Data Source\n",
    "Traffic crash data can be obtained at [Chicago Data Portal](https://data.cityofchicago.org/), using SODA API or exporting directly from the website. The links and descriptions of datasets are listed below:\n",
    "1. [Traffic Crashes - Crashes](https://data.cityofchicago.org/Transportation/Traffic-Crashes-Crashes/85ca-t3if): Major dataset for this project.\n",
    "2. [Traffic Crashes - Vehicles](https://data.cityofchicago.org/Transportation/Traffic-Crashes-Vehicles/68nd-jvt3): Information of related vehicles.\n",
    "3. [Traffic Crashes - People](https://data.cityofchicago.org/Transportation/Traffic-Crashes-People/u6pd-qa9d):Information of related people.\n",
    "4. [Chicago Traffic Tracker - Congestion Estimates by Segments](https://data.cityofchicago.org/Transportation/Chicago-Traffic-Tracker-Congestion-Estimates-by-Se/n4j6-wkkf): Geo information of traffic segments of Chicago arterial streets (nonfreeway streets).\n",
    "5. [Chicago Traffic Tracker - Congestion Estimates by Regions](https://data.cityofchicago.org/Transportation/Chicago-Traffic-Tracker-Congestion-Estimates-by-Re/t2qc-9pjd): Geo information of Chicago Regions.\n",
    "\n"
   ]
  },
  {
   "cell_type": "markdown",
   "metadata": {},
   "source": [
    "## Data Processing"
   ]
  },
  {
   "cell_type": "code",
   "execution_count": 297,
   "metadata": {},
   "outputs": [],
   "source": [
    "import pandas as pd\n",
    "import numpy as np\n",
    "import geopandas as gpd\n",
    "from shapely import wkt\n",
    "import matplotlib.pyplot as plt\n",
    "import folium\n",
    "from folium import plugins\n",
    "import seaborn as sns\n"
   ]
  },
  {
   "cell_type": "markdown",
   "metadata": {},
   "source": [
    "Load the dataset into dataframe and have a glance."
   ]
  },
  {
   "cell_type": "code",
   "execution_count": null,
   "metadata": {},
   "outputs": [],
   "source": [
    "crash_raw = pd.read_csv(\"data/Traffic_Crashes_-_Crashes.csv\", parse_dates=['CRASH_DATE','DATE_POLICE_NOTIFIED'])\n",
    "crash_raw.head()"
   ]
  },
  {
   "cell_type": "code",
   "execution_count": null,
   "metadata": {},
   "outputs": [],
   "source": [
    "crash_raw.shape"
   ]
  },
  {
   "cell_type": "markdown",
   "metadata": {},
   "source": [
    "Select crashes in 2016-2018"
   ]
  },
  {
   "cell_type": "code",
   "execution_count": null,
   "metadata": {},
   "outputs": [],
   "source": [
    "crash = crash_raw[(crash_raw['CRASH_DATE'] < pd.datetime(2019,1,1)) & (crash_raw['CRASH_DATE'] >= pd.datetime(2016,1,1))].copy()"
   ]
  },
  {
   "cell_type": "markdown",
   "metadata": {},
   "source": [
    "Deal with outliers and missing values in geo coordinates(LATITUDE, LONGITUDE), INJURIES_FATAL and POSTED_SPEED_LIMIT, then convert dataframe to geo dataframe."
   ]
  },
  {
   "cell_type": "code",
   "execution_count": null,
   "metadata": {},
   "outputs": [],
   "source": [
    "crash = crash[crash['LOCATION'].notnull()]\n",
    "#crash.boxplot(column=['LONGITUDE', 'LATITUDE'])\n",
    "# drop rows with outliers in LATITUDE and LONGITUDE (outlier defiend as being out of 10 std range)\n",
    "crash = crash[np.abs(crash['LATITUDE'] - crash['LATITUDE'].mean()) <= (10 * crash['LATITUDE'].std())]\n",
    "crash = crash[np.abs(crash['LONGITUDE'] - crash['LONGITUDE'].mean()) <= (10 * crash['LONGITUDE'].std())]\n",
    "\n",
    "crash = crash[crash['INJURIES_FATAL'].notnull()]\n",
    "crash = crash[crash['MOST_SEVERE_INJURY'].notnull()]\n",
    "\n",
    "crash = crash[(crash['POSTED_SPEED_LIMIT'] > 0) & (crash['POSTED_SPEED_LIMIT'] % 5 == 0) ]\n",
    "# convert datagframe to geo-dataframe\n",
    "crash['LOCATION'] = crash['LOCATION'].apply(wkt.loads)\n",
    "#crs = {'init': 'epsg:4326'}\n",
    "crash = gpd.GeoDataFrame(crash, geometry='LOCATION')\n",
    "\n",
    "crash.shape"
   ]
  },
  {
   "cell_type": "markdown",
   "metadata": {},
   "source": [
    "## Data Analysis"
   ]
  },
  {
   "cell_type": "markdown",
   "metadata": {},
   "source": [
    "### An overview of geographic distribution\n",
    "What does the 245k traffic crashes look like?"
   ]
  },
  {
   "cell_type": "code",
   "execution_count": null,
   "metadata": {},
   "outputs": [],
   "source": [
    "crash.plot(markersize=0.01, edgecolor='red',figsize=(12,12));\n",
    "plt.axis('off');\n",
    "plt.title('Crash in Chicago from 2016 to 2018')"
   ]
  },
  {
   "cell_type": "code",
   "execution_count": null,
   "metadata": {},
   "outputs": [],
   "source": [
    "\"\"\"crash.info()\n",
    "selected_clomuns = ['RD_NO','CRASH_DATE','POSTED_SPEED_LIMIT',\n",
    "                    'TRAFFIC_CONTROL_DEVICE', 'DEVICE_CONDITION','WEATHER_CONDITION','LIGHTING_CONDITION',\n",
    "                    'ROAD_DEFECT','INTERSECTION_RELATED_I',\n",
    "                    'STREET_NO','STREET_DIRECTION','STREET_NAME ',\n",
    "                    'LATITUDE','LONGITUDE','LOCATION ',\n",
    "                    'CRASH_HOUR','CRASH_DAY_OF_WEEK','CRASH_MONTH ',\n",
    "                    'MOST_SEVERE_INJURY '\n",
    "                   ]\"\"\""
   ]
  },
  {
   "cell_type": "markdown",
   "metadata": {},
   "source": [
    "### Number of crashes by a single feature"
   ]
  },
  {
   "cell_type": "code",
   "execution_count": null,
   "metadata": {},
   "outputs": [],
   "source": [
    "crash['CRASH_TYPE'].value_counts().plot(kind='bar', title =\"CRASH_TYPE\", figsize=(10, 5), legend=True, fontsize=12)"
   ]
  },
  {
   "cell_type": "code",
   "execution_count": null,
   "metadata": {},
   "outputs": [],
   "source": [
    "crash['DAMAGE'].value_counts().plot(kind='bar', title =\"DAMAGE\", figsize=(10, 5), legend=True, fontsize=12)"
   ]
  },
  {
   "cell_type": "code",
   "execution_count": null,
   "metadata": {},
   "outputs": [],
   "source": [
    "crash['MOST_SEVERE_INJURY'].value_counts().plot(kind='bar', title =\"MOST_SEVERE_INJURY\", figsize=(10, 5), legend=True, fontsize=12)"
   ]
  },
  {
   "cell_type": "code",
   "execution_count": null,
   "metadata": {},
   "outputs": [],
   "source": [
    "crash['WEATHER_CONDITION'].value_counts().plot(kind='bar', title =\"WEATHER_CONDITION\", figsize=(10, 5), legend=True, fontsize=12)"
   ]
  },
  {
   "cell_type": "code",
   "execution_count": null,
   "metadata": {},
   "outputs": [],
   "source": [
    "crash['ROADWAY_SURFACE_COND'].value_counts().plot(kind='bar', title =\"road surface condition\", figsize=(10, 5), legend=True, fontsize=12)"
   ]
  },
  {
   "cell_type": "markdown",
   "metadata": {},
   "source": [
    "### Number of crashes by time-related varables"
   ]
  },
  {
   "cell_type": "code",
   "execution_count": null,
   "metadata": {},
   "outputs": [],
   "source": [
    "crash.groupby(['CRASH_MONTH']).count()['RD_NO'].plot(kind='bar', title =\"Crash by Month\", figsize=(10, 5), legend=True, fontsize=12)"
   ]
  },
  {
   "cell_type": "markdown",
   "metadata": {},
   "source": [
    "More crashes happen in Sep to Oct, namely late autumn and early winter."
   ]
  },
  {
   "cell_type": "markdown",
   "metadata": {},
   "source": [
    "*Crashes by day of week (Sunday == 1)*"
   ]
  },
  {
   "cell_type": "code",
   "execution_count": null,
   "metadata": {},
   "outputs": [],
   "source": [
    "crash.groupby(['CRASH_DAY_OF_WEEK']).count()['RD_NO'].plot(kind='bar', title =\"Crash by Day\", figsize=(10, 5), legend=True, fontsize=12)"
   ]
  },
  {
   "cell_type": "markdown",
   "metadata": {},
   "source": [
    "More crashes happen in Friday "
   ]
  },
  {
   "cell_type": "markdown",
   "metadata": {},
   "source": [
    "*Crashes by hours*"
   ]
  },
  {
   "cell_type": "code",
   "execution_count": null,
   "metadata": {},
   "outputs": [],
   "source": [
    "crash.groupby(['CRASH_HOUR']).count()['RD_NO'].plot(kind='bar', title =\"Crash by Hour\", figsize=(10, 5), legend=True, fontsize=12)"
   ]
  },
  {
   "cell_type": "markdown",
   "metadata": {},
   "source": [
    "More crashes happen in rush hours "
   ]
  },
  {
   "cell_type": "markdown",
   "metadata": {},
   "source": [
    "### Number of crashes by location-realated variables"
   ]
  },
  {
   "cell_type": "markdown",
   "metadata": {},
   "source": [
    "*Dynamic heapmap showing geographic distribution of crash by month in 2018*"
   ]
  },
  {
   "cell_type": "code",
   "execution_count": null,
   "metadata": {},
   "outputs": [],
   "source": [
    "map_chicago = folium.Map(location=[41.830994, -87.647345],\n",
    "                         tiles = \"Stamen Terrain\",\n",
    "                         zoom_start = 10) \n",
    "\n",
    "crash2018 = crash[(crash['CRASH_DATE'] < pd.datetime(2019,1,1)) & (crash['CRASH_DATE'] >= pd.datetime(2018,1,1))].copy()\n",
    "\n",
    "heatmap = []\n",
    "for i in range(1, 13):\n",
    "    df = crash2018[crash2018['CRASH_MONTH'] == i]\n",
    "    df1 = df.sample(int(len(df)*0.3))\n",
    "    cood = [[row[\"LATITUDE\"], row[\"LONGITUDE\"]] for idx, row in df1.iterrows()]\n",
    "    heatmap.append(cood)\n",
    "    \n",
    "plugins.HeatMapWithTime(heatmap, radius=3, auto_play=True,max_opacity=0.8).add_to(map_chicago)\n",
    "map_chicago\n"
   ]
  },
  {
   "cell_type": "markdown",
   "metadata": {},
   "source": [
    "*Dynamic heapmap showing geographic distribution of crash by hour in 2018*"
   ]
  },
  {
   "cell_type": "code",
   "execution_count": null,
   "metadata": {},
   "outputs": [],
   "source": [
    "map_chicago = folium.Map(location=[41.830994, -87.647345],\n",
    "                         tiles = \"Stamen Terrain\",\n",
    "                         zoom_start = 10) \n",
    "\n",
    "crash2018 = crash[(crash['CRASH_DATE'] < pd.datetime(2019,1,1)) & (crash['CRASH_DATE'] >= pd.datetime(2018,1,1))].copy()\n",
    "\n",
    "heatmap = []\n",
    "for i in range(0,24):\n",
    "    df = crash2018[crash2018['CRASH_HOUR'] == i]\n",
    "    df1 = df.sample(int(len(df)*0.1))\n",
    "    cood = [[row[\"LATITUDE\"], row[\"LONGITUDE\"]] for idx, row in df1.iterrows()]\n",
    "    heatmap.append(cood)\n",
    "    \n",
    "plugins.HeatMapWithTime(heatmap, radius=5, auto_play=True,max_opacity=0.8).add_to(map_chicago)\n",
    "map_chicago"
   ]
  },
  {
   "cell_type": "code",
   "execution_count": null,
   "metadata": {},
   "outputs": [],
   "source": [
    "#map_chicago.save('crash heatmap.html')"
   ]
  },
  {
   "cell_type": "markdown",
   "metadata": {},
   "source": [
    "*number of crashes by street*"
   ]
  },
  {
   "cell_type": "code",
   "execution_count": null,
   "metadata": {},
   "outputs": [],
   "source": [
    "crash['STREET_NAME'].value_counts()[:min(20, len(crash))].plot(kind='bar', title =\"Crash by Street\", figsize=(10, 5), legend=True, fontsize=12)"
   ]
  },
  {
   "cell_type": "markdown",
   "metadata": {},
   "source": [
    "<a id='modeling'></a>\n",
    "# Modeling"
   ]
  },
  {
   "cell_type": "code",
   "execution_count": null,
   "metadata": {},
   "outputs": [],
   "source": [
    "\n",
    "features = ['POSTED_SPEED_LIMIT',\n",
    "            'TRAFFIC_CONTROL_DEVICE', 'DEVICE_CONDITION','WEATHER_CONDITION','LIGHTING_CONDITION',\n",
    "            'ROAD_DEFECT',\n",
    "            'STREET_NO','STREET_DIRECTION','STREET_NAME',\n",
    "            'LATITUDE','LONGITUDE',\n",
    "            'CRASH_HOUR','CRASH_DAY_OF_WEEK','CRASH_MONTH',\n",
    "            'MOST_SEVERE_INJURY','DAMAGE','FIRST_CRASH_TYPE','TRAFFICWAY_TYPE',\n",
    "            'INJURIES_FATAL', 'INJURIES_INCAPACITATING'\n",
    "            ]\n"
   ]
  },
  {
   "cell_type": "code",
   "execution_count": null,
   "metadata": {},
   "outputs": [],
   "source": [
    "from sklearn.linear_model import LinearRegression\n",
    "from sklearn.ensemble import RandomForestRegressor\n",
    "from sklearn.model_selection import train_test_split\n",
    "#from sklearn.preprocessing import StandardScaler"
   ]
  },
  {
   "cell_type": "code",
   "execution_count": null,
   "metadata": {},
   "outputs": [],
   "source": [
    "# Convert geo-dataframe into a regular dataframe.\n",
    "df = pd.DataFrame(crash[features])\n",
    "#df.head()\n",
    "#ss_lat = StandardScaler()\n",
    "#df['LATITUDE'] = ss_lat.fit_transform(df['LATITUDE'].values.reshape(-1,1)).flatten()\n",
    "#ss_lon = StandardScaler()\n",
    "#df['LONGITUDE'] = ss_lon.fit_transform(df['LONGITUDE'].values.reshape(-1,1)).flatten()\n",
    "\n",
    "#df.shape\n",
    "df.describe()\n"
   ]
  },
  {
   "cell_type": "code",
   "execution_count": null,
   "metadata": {},
   "outputs": [],
   "source": [
    "df.info()"
   ]
  },
  {
   "cell_type": "code",
   "execution_count": null,
   "metadata": {},
   "outputs": [],
   "source": [
    "\"\"\"\n",
    "cols = ['POSTED_SPEED_LIMIT', 'TRAFFIC_CONTROL_DEVICE', 'DEVICE_CONDITION',\n",
    "       'WEATHER_CONDITION', 'LIGHTING_CONDITION', 'ROAD_DEFECT', \n",
    "       'STREET_DIRECTION', 'STREET_NAME', \n",
    "       'CRASH_DAY_OF_WEEK', 'CRASH_MONTH'\n",
    "       ]\n",
    "\n",
    "for i in range(len(cols)):\n",
    "    print(cols[i])\n",
    "    df[cols[i]].value_counts()\n",
    "\"\"\""
   ]
  },
  {
   "cell_type": "code",
   "execution_count": null,
   "metadata": {},
   "outputs": [],
   "source": [
    "corr_mat = df.corr()\n",
    "f, ax = plt.subplots(figsize=(12, 9))\n",
    "sns.heatmap(corr_mat, vmax=.8, square=True)"
   ]
  },
  {
   "cell_type": "code",
   "execution_count": null,
   "metadata": {},
   "outputs": [],
   "source": [
    "# Encoding catagory variables\n",
    "from sklearn.preprocessing import LabelEncoder\n",
    "lblE = LabelEncoder()\n",
    "for i in df:\n",
    "    if df[i].dtype == 'object':\n",
    "        lblE.fit(df[i])\n",
    "        df[i] = lblE.transform(df[i])\n",
    "df = pd.get_dummies(df)\n",
    "df.head()"
   ]
  },
  {
   "cell_type": "code",
   "execution_count": null,
   "metadata": {},
   "outputs": [],
   "source": [
    "X_train, X_test, y_train, y_test = train_test_split(df.drop(['INJURIES_FATAL', 'INJURIES_INCAPACITATING'], axis=1), \n",
    "                                                    df['INJURIES_FATAL'], test_size=0.33, random_state=42)\n",
    "X_train.shape, X_test.shape, y_train.shape, y_test.shape"
   ]
  },
  {
   "cell_type": "code",
   "execution_count": null,
   "metadata": {},
   "outputs": [],
   "source": [
    "def rmse(x,y): return np.sqrt(((x-y)**2).mean())\n",
    "def print_score(m):\n",
    "    res = [rmse(m.predict(X_train), y_train), \n",
    "           rmse(m.predict(X_test), y_test),\n",
    "           m.score(X_train, y_train), \n",
    "           m.score(X_test, y_test)]\n",
    "    \n",
    "    if hasattr(m, 'oob_score_'):res.append(m.oob_score_)\n",
    "    print (\"\\nRMSE for train set: \", res[0],\n",
    "           \"\\nRMSE for test set: \", res[1],\n",
    "           \"\\nScore for train set: \", res[2],\n",
    "           \"\\nScore for test set: \", res[3]\n",
    "          )"
   ]
  },
  {
   "cell_type": "code",
   "execution_count": null,
   "metadata": {},
   "outputs": [],
   "source": [
    "\n",
    "rfr = RandomForestRegressor(n_estimators=50)\n",
    "rfr.fit(X_train, y_train)\n",
    "print_score(rfr)"
   ]
  },
  {
   "cell_type": "code",
   "execution_count": null,
   "metadata": {},
   "outputs": [],
   "source": [
    "f_imp = pd.DataFrame(data={'importance':rfr.feature_importances_,'features':X_train.columns}).set_index('features')\n",
    "f_imp = f_imp.sort_values('importance', ascending=False)\n",
    "f_imp"
   ]
  },
  {
   "cell_type": "markdown",
   "metadata": {},
   "source": [
    "Besides the non-surprising result that 'MOST_SEVERE_INJURY' is most related, we can see in the feature importance table that:\n",
    "1. The street where the crash happened are more related to the number of death.\n",
    "2. The hour and day of week are more related to the number of death, comparede to the month.\n",
    "3. Weather and traffic control device seems not related to the number of death, which is not a straightforward result."
   ]
  },
  {
   "cell_type": "markdown",
   "metadata": {},
   "source": [
    "<a id='conclusion'></a>\n",
    "# Conclusion\n",
    "\n",
    "By analyzing the modeling the traffic crash data, we have successfully predict the severity of crashes based on Random Forrest Regression with a score of 0.89. Future works will be predicting the probobility of crashes per raod segment and per hour. "
   ]
  },
  {
   "cell_type": "code",
   "execution_count": null,
   "metadata": {},
   "outputs": [],
   "source": []
  }
 ],
 "metadata": {
  "kernelspec": {
   "display_name": "Python 3",
   "language": "python",
   "name": "python3"
  },
  "language_info": {
   "codemirror_mode": {
    "name": "ipython",
    "version": 3
   },
   "file_extension": ".py",
   "mimetype": "text/x-python",
   "name": "python",
   "nbconvert_exporter": "python",
   "pygments_lexer": "ipython3",
   "version": "3.7.3"
  }
 },
 "nbformat": 4,
 "nbformat_minor": 2
}
